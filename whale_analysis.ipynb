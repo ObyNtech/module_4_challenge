{
 "cells": [
  {
   "cell_type": "code",
   "execution_count": 45,
   "id": "02d1e716-d7bf-448b-97a2-379aef20aaa0",
   "metadata": {},
   "outputs": [],
   "source": [
    "## Initial imports \n",
    "import pandas as pd\n",
    "import numpy as np\n",
    "from pathlib import Path\n",
    "import datetime as dt\n",
    "import os"
   ]
  },
  {
   "cell_type": "code",
   "execution_count": 46,
   "id": "c5c6ebd9-c1d8-4592-94c3-af38e1758c48",
   "metadata": {},
   "outputs": [
    {
     "name": "stdout",
     "output_type": "stream",
     "text": [
      "C:\\Users\\Obiageri\\Documents\\University of Toronto\\Assignment\\module_4_challenge\\Resources\\whale_returns.csv\n"
     ]
    }
   ],
   "source": [
    "#import csv path\n",
    "current_dir = os.getcwd()\n",
    "data_path = os.path.join(current_dir, \"Resources\", \"whale_returns.csv\")\n",
    "print(data_path)"
   ]
  },
  {
   "cell_type": "code",
   "execution_count": null,
   "id": "5fcbb565-f8fc-45b6-b549-241773156549",
   "metadata": {},
   "outputs": [],
   "source": [
    "#Read the Whale Portfolio daily returns and clean the data.\n",
    "\n",
    "whale_returns_csv = \"Resources\\whale_returns.csv\"\n",
    "whale_returns_df = pd.read_csv(whale_returns_csv)\n",
    "whale_returns_df"
   ]
  },
  {
   "cell_type": "code",
   "execution_count": null,
   "id": "48dc7e7c-b0f5-44d6-8489-41ec5206641b",
   "metadata": {},
   "outputs": [],
   "source": [
    "#Read the S&P TSX 60 historic closing prices and create a new daily returns DataFrame from the data. \n",
    "\n",
    "sp_tsx_history_csv = \"Resources\\sp_tsx_history.csv\"\n",
    "sp_tsx_history_df = pd.read_csv(sp_tsx_history_csv)\n",
    "sp_tsx_history_df"
   ]
  },
  {
   "cell_type": "code",
   "execution_count": null,
   "id": "32ef5c76-cb11-494e-9041-2c9311fba0e7",
   "metadata": {},
   "outputs": [],
   "source": [
    "#Read the algorithmic daily returns and clean the data.\n",
    "\n",
    "algo_returns_csv = \"./Resources/algo_returns.csv\"\n",
    "algo_returns_df = pd.read_csv(algo_returns_csv)\n",
    "algo_returns_df"
   ]
  }
 ],
 "metadata": {
  "kernelspec": {
   "display_name": "Python 3 (ipykernel)",
   "language": "python",
   "name": "python3"
  },
  "language_info": {
   "codemirror_mode": {
    "name": "ipython",
    "version": 3
   },
   "file_extension": ".py",
   "mimetype": "text/x-python",
   "name": "python",
   "nbconvert_exporter": "python",
   "pygments_lexer": "ipython3",
   "version": "3.10.9"
  }
 },
 "nbformat": 4,
 "nbformat_minor": 5
}
