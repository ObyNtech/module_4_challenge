{
 "cells": [
  {
   "cell_type": "code",
   "execution_count": null,
   "metadata": {},
   "outputs": [],
   "source": [
    "## Initial imports \n",
    "import pandas as pd\n",
    "import numpy as np\n",
    "from pathlib import Path\n",
    "import datetime as dt\n",
    "import os"
   ]
  },
  {
   "cell_type": "code",
   "execution_count": null,
   "metadata": {},
   "outputs": [],
   "source": [
    "#import csv path\n",
    "current_dir = os.getcwd()\n",
    "data_path = os.path.join(current_dir, \"Resources\", \"whale_returns.csv\")\n",
    "print(data_path)"
   ]
  },
  {
   "cell_type": "markdown",
   "metadata": {
    "tags": []
   },
   "source": [
    "## Whale Returns\n",
    "\n",
    "Read the Whale Portfolio daily returns and clean the data."
   ]
  },
  {
   "cell_type": "code",
   "execution_count": null,
   "metadata": {},
   "outputs": [],
   "source": [
    "#Read the Whale Portfolio daily returns and clean the data.\n",
    "whale_returns_csv = \"Resources\\whale_returns.csv\"\n",
    "whale_returns_df = pd.read_csv(whale_returns_csv)\n",
    "whale_returns_df"
   ]
  },
  {
   "cell_type": "code",
   "execution_count": null,
   "metadata": {},
   "outputs": [],
   "source": [
    "# Count nulls\n",
    "whale_return_nan_count = whale_returns_df.isnull().sum()\n",
    "whale_return_nan_count"
   ]
  },
  {
   "cell_type": "code",
   "execution_count": null,
   "metadata": {},
   "outputs": [],
   "source": [
    "# Drop nulls\n",
    "whale_return_dropnan_df = whale_returns_df.dropna()\n",
    "whale_return_dropnan_df"
   ]
  },
  {
   "cell_type": "markdown",
   "metadata": {
    "tags": []
   },
   "source": [
    "## Algorithmic Daily Returns\n",
    "\n",
    "Read the algorithmic daily returns and clean the data."
   ]
  },
  {
   "cell_type": "code",
   "execution_count": null,
   "metadata": {},
   "outputs": [],
   "source": [
    "#Read the algorithmic daily returns and clean the data.\n",
    "\n",
    "algo_returns_csv = \"./Resources/algo_returns.csv\"\n",
    "algo_returns_df = pd.read_csv(algo_returns_csv)\n",
    "algo_returns_df"
   ]
  },
  {
   "cell_type": "code",
   "execution_count": null,
   "metadata": {},
   "outputs": [],
   "source": [
    "# Count nulls\n",
    "algo_return_nan_count = algo_returns_df.isnull().sum()\n",
    "algo_return_nan_count"
   ]
  },
  {
   "cell_type": "code",
   "execution_count": null,
   "metadata": {},
   "outputs": [],
   "source": [
    "# Drop nulls\n",
    "algo_return_dropnan_df = algo_returns_df.dropna()\n",
    "algo_return_dropnan_df"
   ]
  },
  {
   "cell_type": "markdown",
   "metadata": {
    "tags": []
   },
   "source": [
    "## S&P TSX 60 Returns\n",
    "\n",
    "Read the S&P TSX 60 historic closing prices and create a new daily returns DataFrame from the data. "
   ]
  },
  {
   "cell_type": "code",
   "execution_count": null,
   "metadata": {},
   "outputs": [],
   "source": [
    "#Read the S&P TSX 60 historic closing prices and create a new daily returns DataFrame from the data. \n",
    "sp_tsx_history_csv = \"Resources\\sp_tsx_history.csv\"\n",
    "sp_tsx_history_df = pd.read_csv(sp_tsx_history_csv)\n",
    "sp_tsx_history_df"
   ]
  },
  {
   "cell_type": "code",
   "execution_count": null,
   "metadata": {},
   "outputs": [],
   "source": [
    "# Check Data Types\n",
    "sp_tsx_history_df.dtypes"
   ]
  },
  {
   "cell_type": "code",
   "execution_count": null,
   "metadata": {},
   "outputs": [],
   "source": [
    "# Fix Data Types\n",
    "sp_tsx_history_df[\"Close\"] = sp_tsx_history_df[\"Close\"].str.replace(\"$\", \"\")\n",
    "sp_tsx_history_df[\"Close\"] = sp_tsx_history_df[\"Close\"].str.replace(\",\", \"\")\n",
    "sp_tsx_history_df[\"Close\"] = sp_tsx_history_df[\"Close\"].astype(\"float\")\n",
    "sp_tsx_history_df"
   ]
  },
  {
   "cell_type": "code",
   "execution_count": null,
   "metadata": {},
   "outputs": [],
   "source": [
    "# Calculate Daily Returns\n",
    "\n",
    "sp_tsx_history_df[\"Close\"] = sp_tsx_history_df[\"Close\"].pct_change()\n",
    "sp_tsx_history_df\n"
   ]
  },
  {
   "cell_type": "code",
   "execution_count": null,
   "metadata": {},
   "outputs": [],
   "source": [
    "# Drop nulls\n",
    "sp_tsx_history_df = sp_tsx_history_df.dropna()\n",
    "sp_tsx_history_df"
   ]
  },
  {
   "cell_type": "code",
   "execution_count": null,
   "metadata": {},
   "outputs": [],
   "source": [
    "# Rename `Close` Column to be specific to this portfolio.\n",
    "sp_tsx_history_df = sp_tsx_history_df.rename(columns = {\"Close\":\"Daily Returns\"})\n",
    "sp_tsx_history_df"
   ]
  },
  {
   "cell_type": "markdown",
   "metadata": {},
   "source": [
    "## Combine Whale, Algorithmic, and S&P TSX 60 Returns"
   ]
  },
  {
   "cell_type": "code",
   "execution_count": 24,
   "metadata": {},
   "outputs": [
    {
     "data": {
      "text/html": [
       "<div>\n",
       "<style scoped>\n",
       "    .dataframe tbody tr th:only-of-type {\n",
       "        vertical-align: middle;\n",
       "    }\n",
       "\n",
       "    .dataframe tbody tr th {\n",
       "        vertical-align: top;\n",
       "    }\n",
       "\n",
       "    .dataframe thead th {\n",
       "        text-align: right;\n",
       "    }\n",
       "</style>\n",
       "<table border=\"1\" class=\"dataframe\">\n",
       "  <thead>\n",
       "    <tr style=\"text-align: right;\">\n",
       "      <th></th>\n",
       "      <th>Date</th>\n",
       "      <th>SOROS FUND MANAGEMENT LLC</th>\n",
       "      <th>PAULSON &amp; CO.INC.</th>\n",
       "      <th>TIGER GLOBAL MANAGEMENT LLC</th>\n",
       "      <th>BERKSHIRE HATHAWAY INC</th>\n",
       "      <th>Date</th>\n",
       "      <th>Algo 1</th>\n",
       "      <th>Algo 2</th>\n",
       "      <th>Date</th>\n",
       "      <th>Daily Returns</th>\n",
       "    </tr>\n",
       "  </thead>\n",
       "  <tbody>\n",
       "    <tr>\n",
       "      <th>6</th>\n",
       "      <td>2015-03-10</td>\n",
       "      <td>-0.010263</td>\n",
       "      <td>-0.005341</td>\n",
       "      <td>-0.012079</td>\n",
       "      <td>-0.009739</td>\n",
       "      <td>2014-06-05</td>\n",
       "      <td>0.004062</td>\n",
       "      <td>0.013285</td>\n",
       "      <td>10-Oct-2012</td>\n",
       "      <td>-0.004982</td>\n",
       "    </tr>\n",
       "    <tr>\n",
       "      <th>7</th>\n",
       "      <td>2015-03-11</td>\n",
       "      <td>0.004012</td>\n",
       "      <td>0.005163</td>\n",
       "      <td>0.003312</td>\n",
       "      <td>-0.001147</td>\n",
       "      <td>2014-06-06</td>\n",
       "      <td>0.001857</td>\n",
       "      <td>0.008284</td>\n",
       "      <td>11-Oct-2012</td>\n",
       "      <td>0.001763</td>\n",
       "    </tr>\n",
       "    <tr>\n",
       "      <th>8</th>\n",
       "      <td>2015-03-12</td>\n",
       "      <td>0.008265</td>\n",
       "      <td>0.010272</td>\n",
       "      <td>0.013117</td>\n",
       "      <td>0.010801</td>\n",
       "      <td>2014-06-09</td>\n",
       "      <td>-0.005012</td>\n",
       "      <td>0.005668</td>\n",
       "      <td>12-Oct-2012</td>\n",
       "      <td>-0.002608</td>\n",
       "    </tr>\n",
       "    <tr>\n",
       "      <th>9</th>\n",
       "      <td>2015-03-13</td>\n",
       "      <td>-0.002497</td>\n",
       "      <td>-0.001428</td>\n",
       "      <td>-0.003697</td>\n",
       "      <td>-0.008142</td>\n",
       "      <td>2014-06-10</td>\n",
       "      <td>0.004406</td>\n",
       "      <td>-0.000735</td>\n",
       "      <td>15-Oct-2012</td>\n",
       "      <td>0.002288</td>\n",
       "    </tr>\n",
       "    <tr>\n",
       "      <th>10</th>\n",
       "      <td>2015-03-16</td>\n",
       "      <td>0.007901</td>\n",
       "      <td>0.003583</td>\n",
       "      <td>0.007953</td>\n",
       "      <td>0.008055</td>\n",
       "      <td>2014-06-11</td>\n",
       "      <td>0.004760</td>\n",
       "      <td>-0.003761</td>\n",
       "      <td>16-Oct-2012</td>\n",
       "      <td>0.014533</td>\n",
       "    </tr>\n",
       "    <tr>\n",
       "      <th>...</th>\n",
       "      <td>...</td>\n",
       "      <td>...</td>\n",
       "      <td>...</td>\n",
       "      <td>...</td>\n",
       "      <td>...</td>\n",
       "      <td>...</td>\n",
       "      <td>...</td>\n",
       "      <td>...</td>\n",
       "      <td>...</td>\n",
       "      <td>...</td>\n",
       "    </tr>\n",
       "    <tr>\n",
       "      <th>1055</th>\n",
       "      <td>2019-04-25</td>\n",
       "      <td>-0.000285</td>\n",
       "      <td>-0.001291</td>\n",
       "      <td>-0.005153</td>\n",
       "      <td>0.004848</td>\n",
       "      <td>2018-08-03</td>\n",
       "      <td>-0.003656</td>\n",
       "      <td>0.002817</td>\n",
       "      <td>13-Dec-2016</td>\n",
       "      <td>0.006382</td>\n",
       "    </tr>\n",
       "    <tr>\n",
       "      <th>1056</th>\n",
       "      <td>2019-04-26</td>\n",
       "      <td>0.008149</td>\n",
       "      <td>0.009162</td>\n",
       "      <td>0.012355</td>\n",
       "      <td>0.010434</td>\n",
       "      <td>2018-08-06</td>\n",
       "      <td>0.000529</td>\n",
       "      <td>0.000285</td>\n",
       "      <td>14-Dec-2016</td>\n",
       "      <td>-0.012225</td>\n",
       "    </tr>\n",
       "    <tr>\n",
       "      <th>1057</th>\n",
       "      <td>2019-04-29</td>\n",
       "      <td>0.001254</td>\n",
       "      <td>0.002719</td>\n",
       "      <td>0.006251</td>\n",
       "      <td>0.005223</td>\n",
       "      <td>2018-08-07</td>\n",
       "      <td>0.000207</td>\n",
       "      <td>-0.001330</td>\n",
       "      <td>15-Dec-2016</td>\n",
       "      <td>0.001390</td>\n",
       "    </tr>\n",
       "    <tr>\n",
       "      <th>1058</th>\n",
       "      <td>2019-04-30</td>\n",
       "      <td>-0.001295</td>\n",
       "      <td>-0.002211</td>\n",
       "      <td>-0.000259</td>\n",
       "      <td>-0.003702</td>\n",
       "      <td>2018-08-08</td>\n",
       "      <td>0.008429</td>\n",
       "      <td>-0.001812</td>\n",
       "      <td>16-Dec-2016</td>\n",
       "      <td>0.002227</td>\n",
       "    </tr>\n",
       "    <tr>\n",
       "      <th>1059</th>\n",
       "      <td>2019-05-01</td>\n",
       "      <td>-0.005847</td>\n",
       "      <td>-0.001341</td>\n",
       "      <td>-0.007936</td>\n",
       "      <td>-0.007833</td>\n",
       "      <td>2018-08-09</td>\n",
       "      <td>0.003474</td>\n",
       "      <td>0.000550</td>\n",
       "      <td>19-Dec-2016</td>\n",
       "      <td>0.001157</td>\n",
       "    </tr>\n",
       "  </tbody>\n",
       "</table>\n",
       "<p>1054 rows × 10 columns</p>\n",
       "</div>"
      ],
      "text/plain": [
       "            Date  SOROS FUND MANAGEMENT LLC  PAULSON & CO.INC.   \\\n",
       "6     2015-03-10                  -0.010263           -0.005341   \n",
       "7     2015-03-11                   0.004012            0.005163   \n",
       "8     2015-03-12                   0.008265            0.010272   \n",
       "9     2015-03-13                  -0.002497           -0.001428   \n",
       "10    2015-03-16                   0.007901            0.003583   \n",
       "...          ...                        ...                 ...   \n",
       "1055  2019-04-25                  -0.000285           -0.001291   \n",
       "1056  2019-04-26                   0.008149            0.009162   \n",
       "1057  2019-04-29                   0.001254            0.002719   \n",
       "1058  2019-04-30                  -0.001295           -0.002211   \n",
       "1059  2019-05-01                  -0.005847           -0.001341   \n",
       "\n",
       "      TIGER GLOBAL MANAGEMENT LLC  BERKSHIRE HATHAWAY INC        Date  \\\n",
       "6                       -0.012079               -0.009739  2014-06-05   \n",
       "7                        0.003312               -0.001147  2014-06-06   \n",
       "8                        0.013117                0.010801  2014-06-09   \n",
       "9                       -0.003697               -0.008142  2014-06-10   \n",
       "10                       0.007953                0.008055  2014-06-11   \n",
       "...                           ...                     ...         ...   \n",
       "1055                    -0.005153                0.004848  2018-08-03   \n",
       "1056                     0.012355                0.010434  2018-08-06   \n",
       "1057                     0.006251                0.005223  2018-08-07   \n",
       "1058                    -0.000259               -0.003702  2018-08-08   \n",
       "1059                    -0.007936               -0.007833  2018-08-09   \n",
       "\n",
       "        Algo 1    Algo 2         Date  Daily Returns  \n",
       "6     0.004062  0.013285  10-Oct-2012      -0.004982  \n",
       "7     0.001857  0.008284  11-Oct-2012       0.001763  \n",
       "8    -0.005012  0.005668  12-Oct-2012      -0.002608  \n",
       "9     0.004406 -0.000735  15-Oct-2012       0.002288  \n",
       "10    0.004760 -0.003761  16-Oct-2012       0.014533  \n",
       "...        ...       ...          ...            ...  \n",
       "1055 -0.003656  0.002817  13-Dec-2016       0.006382  \n",
       "1056  0.000529  0.000285  14-Dec-2016      -0.012225  \n",
       "1057  0.000207 -0.001330  15-Dec-2016       0.001390  \n",
       "1058  0.008429 -0.001812  16-Dec-2016       0.002227  \n",
       "1059  0.003474  0.000550  19-Dec-2016       0.001157  \n",
       "\n",
       "[1054 rows x 10 columns]"
      ]
     },
     "execution_count": 24,
     "metadata": {},
     "output_type": "execute_result"
    }
   ],
   "source": [
    "# Join Whale Returns, Algorithmic Returns, and the S&P TSX 60 Returns into a single DataFrame with columns for each portfolio's returns.\n",
    "\n",
    "combined_data_df = pd.concat(\n",
    "    [whale_return_dropnan_df, algo_return_dropnan_df, sp_tsx_history_df], axis='columns', join='inner'\n",
    ")\n",
    "combined_data_df\n"
   ]
  },
  {
   "cell_type": "markdown",
   "metadata": {},
   "source": [
    "# Conduct Quantitative Analysis\n",
    "\n",
    "In this section, you will calculate and visualize performance and risk metrics for the portfolios."
   ]
  },
  {
   "cell_type": "markdown",
   "metadata": {},
   "source": [
    "## Performance Anlysis\n",
    "\n",
    "#### Calculate and Plot the daily returns."
   ]
  },
  {
   "cell_type": "code",
   "execution_count": 20,
   "metadata": {},
   "outputs": [
    {
     "data": {
      "text/plain": [
       "<AxesSubplot:>"
      ]
     },
     "execution_count": 20,
     "metadata": {},
     "output_type": "execute_result"
    },
    {
     "data": {
      "image/png": "[encoded data removed]",
      "text/plain": [
       "<Figure size 432x288 with 1 Axes>"
      ]
     },
     "metadata": {
      "needs_background": "light"
     },
     "output_type": "display_data"
    }
   ],
   "source": [
    "# Plot daily returns of all portfolios\n",
    "#combined_data_df = combined_data_df.set_index['Date']\n",
    "combined_data_df.plot()"
   ]
  },
  {
   "cell_type": "markdown",
   "metadata": {},
   "source": [
    "#### Calculate and Plot cumulative returns."
   ]
  },
  {
   "cell_type": "code",
   "execution_count": null,
   "metadata": {},
   "outputs": [],
   "source": [
    "# Calculate cumulative returns of all portfolios\n",
    "\n",
    "# Plot cumulative returns"
   ]
  },
  {
   "cell_type": "markdown",
   "metadata": {},
   "source": [
    "## Risk Analysis\n",
    "\n",
    "Determine the _risk_ of each portfolio:\n",
    "\n",
    "1. Create a box plot for each portfolio. \n",
    "2. Calculate the standard deviation for all portfolios.\n",
    "4. Determine which portfolios are riskier than the S&P TSX 60.\n",
    "5. Calculate the Annualized Standard Deviation."
   ]
  },
  {
   "cell_type": "code",
   "execution_count": null,
   "metadata": {},
   "outputs": [],
   "source": [
    "# Box plot to visually show risk"
   ]
  },
  {
   "cell_type": "code",
   "execution_count": 28,
   "metadata": {},
   "outputs": [
    {
     "data": {
      "text/plain": [
       "SOROS FUND MANAGEMENT LLC      0.007855\n",
       "PAULSON & CO.INC.              0.006988\n",
       "TIGER GLOBAL MANAGEMENT LLC    0.010845\n",
       "BERKSHIRE HATHAWAY INC         0.012850\n",
       "Algo 1                         0.007745\n",
       "Algo 2                         0.008265\n",
       "Daily Returns                  0.007421\n",
       "dtype: float64"
      ]
     },
     "execution_count": 28,
     "metadata": {},
     "output_type": "execute_result"
    }
   ],
   "source": [
    "# Calculate the daily standard deviations of all portfolios\n",
    "daily_std_combined_data = combined_data_df.std()\n",
    "daily_std_combined_data "
   ]
  },
  {
   "cell_type": "code",
   "execution_count": 29,
   "metadata": {},
   "outputs": [
    {
     "data": {
      "text/plain": [
       "Daily Returns    0.006637\n",
       "dtype: float64"
      ]
     },
     "execution_count": 29,
     "metadata": {},
     "output_type": "execute_result"
    }
   ],
   "source": [
    "# Calculate  the daily standard deviation of S&P TSX 60\n",
    "daily_std_sp_tsx_df = sp_tsx_history_df.std()\n",
    "daily_std_sp_tsx_df\n",
    "\n",
    "# Determine which portfolios are riskier than the S&P TSX 60\n"
   ]
  },
  {
   "cell_type": "code",
   "execution_count": 30,
   "metadata": {},
   "outputs": [
    {
     "data": {
      "text/plain": [
       "SOROS FUND MANAGEMENT LLC      0.124700\n",
       "PAULSON & CO.INC.              0.110926\n",
       "TIGER GLOBAL MANAGEMENT LLC    0.172156\n",
       "BERKSHIRE HATHAWAY INC         0.203994\n",
       "Algo 1                         0.122946\n",
       "Algo 2                         0.131206\n",
       "Daily Returns                  0.117809\n",
       "dtype: float64"
      ]
     },
     "execution_count": 30,
     "metadata": {},
     "output_type": "execute_result"
    }
   ],
   "source": [
    "# Calculate the annualized standard deviation (252 trading days)\n",
    "annualized_std_combined_data = daily_std_combined_data *np.sqrt(252)\n",
    "annualized_std_combined_data "
   ]
  },
  {
   "cell_type": "markdown",
   "metadata": {},
   "source": [
    "## Rolling Statistics\n",
    "\n",
    "Risk changes over time. Analyze the rolling statistics for Risk and Beta. \n",
    "\n",
    "1. Calculate and plot the rolling standard deviation for for all portfolios using a 21-day window.\n",
    "2. Calculate the correlation between each stock to determine which portfolios may mimick the S&P TSX 60.\n",
    "3. Choose one portfolio, then calculate and plot the 60-day rolling beta for it and the S&P TSX 60."
   ]
  },
  {
   "cell_type": "code",
   "execution_count": null,
   "metadata": {},
   "outputs": [],
   "source": [
    "# Calculate the rolling standard deviation for all portfolios using a 21-day window\n",
    "\n",
    "# Plot the rolling standard deviation"
   ]
  },
  {
   "cell_type": "code",
   "execution_count": null,
   "metadata": {},
   "outputs": [],
   "source": [
    "# Calculate the correlation\n",
    "\n",
    "# Display de correlation matrix"
   ]
  },
  {
   "cell_type": "code",
   "execution_count": null,
   "metadata": {},
   "outputs": [],
   "source": [
    "# Calculate covariance of a single portfolio\n",
    "\n",
    "# Calculate variance of S&P TSX\n",
    "\n",
    "# Computing beta\n",
    "\n",
    "# Plot beta trend"
   ]
  },
  {
   "cell_type": "markdown",
   "metadata": {},
   "source": [
    "## Rolling Statistics Challenge: Exponentially Weighted Average \n",
    "\n",
    "An alternative way to calculate a rolling window is to take the exponentially weighted moving average. This is like a moving window average, but it assigns greater importance to more recent observations. Try calculating the [`ewm`](https://pandas.pydata.org/pandas-docs/stable/reference/api/pandas.DataFrame.ewm.html) with a 21-day half life for each portfolio, using standard deviation (`std`) as the metric of interest."
   ]
  },
  {
   "cell_type": "code",
   "execution_count": null,
   "metadata": {},
   "outputs": [],
   "source": [
    "# Use `ewm` to calculate the rolling window"
   ]
  },
  {
   "cell_type": "markdown",
   "metadata": {},
   "source": [
    "# Sharpe Ratios\n",
    "In reality, investment managers and thier institutional investors look at the ratio of return-to-risk, and not just returns alone. After all, if you could invest in one of two portfolios, and each offered the same 10% return, yet one offered lower risk, you'd take that one, right?\n",
    "\n",
    "### Using the daily returns, calculate and visualize the Sharpe ratios using a bar plot"
   ]
  },
  {
   "cell_type": "code",
   "execution_count": null,
   "metadata": {},
   "outputs": [],
   "source": [
    "# Annualized Sharpe Ratios"
   ]
  },
  {
   "cell_type": "code",
   "execution_count": null,
   "metadata": {},
   "outputs": [],
   "source": [
    "# Visualize the sharpe ratios as a bar plot"
   ]
  },
  {
   "cell_type": "code",
   "execution_count": null,
   "metadata": {},
   "outputs": [],
   "source": []
  },
  {
   "cell_type": "code",
   "execution_count": null,
   "metadata": {},
   "outputs": [],
   "source": []
  },
  {
   "cell_type": "code",
   "execution_count": null,
   "metadata": {},
   "outputs": [],
   "source": []
  },
  {
   "cell_type": "code",
   "execution_count": null,
   "metadata": {},
   "outputs": [],
   "source": []
  },
  {
   "cell_type": "code",
   "execution_count": null,
   "metadata": {},
   "outputs": [],
   "source": []
  }
 ],
 "metadata": {
  "kernelspec": {
   "display_name": "Python 3",
   "language": "python",
   "name": "python3"
  },
  "language_info": {
   "codemirror_mode": {
    "name": "ipython",
    "version": 3
   },
   "file_extension": ".py",
   "mimetype": "text/x-python",
   "name": "python",
   "nbconvert_exporter": "python",
   "pygments_lexer": "ipython3",
   "version": "3.8.5"
  }
 },
 "nbformat": 4,
 "nbformat_minor": 5
}
